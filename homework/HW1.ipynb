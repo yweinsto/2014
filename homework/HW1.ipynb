{
 "cells": [
  {
   "cell_type": "markdown",
   "metadata": {},
   "source": [
    "# Homework 1. Exploratory Data Analysis\n",
    "\n",
    "Due: Thursday, September 18, 2014 11:59 PM\n",
    "\n",
    "<a href=https://raw.githubusercontent.com/cs109/2014/master/homework/HW1.ipynb download=HW1.ipynb> Download this assignment</a>\n",
    "\n",
    "---"
   ]
  },
  {
   "cell_type": "markdown",
   "metadata": {},
   "source": [
    "## Introduction\n",
    "\n",
    "In this homework we ask you three questions that we expect you to answer using data. For each question we ask you to complete a series of tasks that should help guide you through the data analysis. Complete these tasks and then write a short (100 words or less) answer to the question.\n",
    "\n",
    "**Note**: We will briefly discuss this homework assignment on Thursday in class.\n",
    "\n",
    "#### Data\n",
    "For this assignment we will use two databases: \n",
    "\n",
    "1. The [Sean Lahman's Baseball Database](http://seanlahman.com/baseball-archive/statistics) which contains the \"complete batting and pitching statistics from 1871 to 2013, plus fielding statistics, standings, team stats, managerial records, post-season data, and more. For more details on the latest release, please [read the documentation](http://seanlahman.com/files/database/readme2012.txt).\"\n",
    "\n",
    "2. [Gapminder](http://www.gapminder.org) is a great resource that contains over [500 data sets](http://www.gapminder.org/data/) related to world indicators such as income, GDP and life expectancy. \n",
    "\n",
    "\n",
    "#### Purpose\n",
    "\n",
    "In this assignment, you will learn how to: \n",
    "\n",
    "a. Load in CSV files from the web. \n",
    "\n",
    "b. Create functions in python. \n",
    "\n",
    "C. Create plots and summary statistics for exploratory data analysis such as histograms, boxplots and scatter plots. \n",
    "\n",
    "\n",
    "#### Useful libraries for this assignment \n",
    "\n",
    "* [numpy](http://docs.scipy.org/doc/numpy-dev/user/index.html), for arrays\n",
    "* [pandas](http://pandas.pydata.org/), for data frames\n",
    "* [matplotlib](http://matplotlib.org/), for plotting\n",
    "\n",
    "---"
   ]
  },
  {
   "cell_type": "code",
   "execution_count": 271,
   "metadata": {
    "collapsed": false
   },
   "outputs": [],
   "source": [
    "# special IPython command to prepare the notebook for matplotlib\n",
    "%matplotlib inline \n",
    "\n",
    "import numpy as np\n",
    "import pandas as pd\n",
    "import matplotlib.pyplot as plt\n",
    "import seaborn as sns\n",
    "import scipy as sp\n",
    "#import requests\n",
    "#from pattern import web"
   ]
  },
  {
   "cell_type": "markdown",
   "metadata": {},
   "source": [
    "## Problem 1\n",
    "\n",
    "In Lecture 1, we showed a plot that provided evidence that the 2002 and 2003 Oakland A's, a team that used data science, had a competitive advantage. Since, others teams have started using data science as well. Use exploratory data analysis to determine if the competitive advantage has since disappeared. "
   ]
  },
  {
   "cell_type": "markdown",
   "metadata": {},
   "source": [
    "#### Problem 1(a) \n",
    "Load in [these CSV files](http://seanlahman.com/files/database/lahman-csv_2014-02-14.zip) from the [Sean Lahman's Baseball Database](http://seanlahman.com/baseball-archive/statistics). For this assignment, we will use the 'Salaries.csv' and 'Teams.csv' tables. Read these tables into a pandas `DataFrame` and show the head of each table. \n",
    "\n",
    "**Hint** Use the [requests](http://docs.python-requests.org/en/latest/), [StringIO](http://docs.python.org/2/library/stringio.html) and [zipfile](https://docs.python.org/2/library/zipfile.html) modules to get from the web.  "
   ]
  },
  {
   "cell_type": "code",
   "execution_count": 60,
   "metadata": {
    "collapsed": false
   },
   "outputs": [
    {
     "name": "stdout",
     "output_type": "stream",
     "text": [
      "Number of rows: 2745\n"
     ]
    },
    {
     "data": {
      "text/html": [
       "<div>\n",
       "<table border=\"1\" class=\"dataframe\">\n",
       "  <thead>\n",
       "    <tr style=\"text-align: right;\">\n",
       "      <th></th>\n",
       "      <th>yearID</th>\n",
       "      <th>teamID</th>\n",
       "      <th>W</th>\n",
       "    </tr>\n",
       "  </thead>\n",
       "  <tbody>\n",
       "    <tr>\n",
       "      <th>0</th>\n",
       "      <td>1871</td>\n",
       "      <td>PH1</td>\n",
       "      <td>21</td>\n",
       "    </tr>\n",
       "    <tr>\n",
       "      <th>1</th>\n",
       "      <td>1871</td>\n",
       "      <td>CH1</td>\n",
       "      <td>19</td>\n",
       "    </tr>\n",
       "    <tr>\n",
       "      <th>2</th>\n",
       "      <td>1871</td>\n",
       "      <td>BS1</td>\n",
       "      <td>20</td>\n",
       "    </tr>\n",
       "    <tr>\n",
       "      <th>3</th>\n",
       "      <td>1871</td>\n",
       "      <td>WS3</td>\n",
       "      <td>15</td>\n",
       "    </tr>\n",
       "    <tr>\n",
       "      <th>4</th>\n",
       "      <td>1871</td>\n",
       "      <td>NY2</td>\n",
       "      <td>16</td>\n",
       "    </tr>\n",
       "  </tbody>\n",
       "</table>\n",
       "</div>"
      ],
      "text/plain": [
       "   yearID teamID   W\n",
       "0    1871    PH1  21\n",
       "1    1871    CH1  19\n",
       "2    1871    BS1  20\n",
       "3    1871    WS3  15\n",
       "4    1871    NY2  16"
      ]
     },
     "execution_count": 60,
     "metadata": {},
     "output_type": "execute_result"
    }
   ],
   "source": [
    "#your code here\n",
    "salaries = pd.read_csv('HW1-data/lahman/Salaries.csv')\n",
    "teams = pd.read_csv('HW1-data/lahman/Teams.csv')\n",
    "teams = teams[['yearID', 'teamID', 'W']]\n",
    "#teams.set_index(['teamID','yearID'],inplace=True)\n",
    "print (\"Number of rows: %i\" % teams.shape[0])\n",
    "teams.head()\n",
    "\n"
   ]
  },
  {
   "cell_type": "markdown",
   "metadata": {},
   "source": [
    "#### Problem 1(b)\n",
    "\n",
    "Summarize the Salaries DataFrame to show the total salaries for each team for each year. Show the head of the new summarized DataFrame. "
   ]
  },
  {
   "cell_type": "code",
   "execution_count": 38,
   "metadata": {
    "collapsed": false
   },
   "outputs": [
    {
     "data": {
      "text/html": [
       "<div>\n",
       "<table border=\"1\" class=\"dataframe\">\n",
       "  <thead>\n",
       "    <tr style=\"text-align: right;\">\n",
       "      <th></th>\n",
       "      <th>teamID</th>\n",
       "      <th>yearID</th>\n",
       "      <th>salary</th>\n",
       "    </tr>\n",
       "  </thead>\n",
       "  <tbody>\n",
       "    <tr>\n",
       "      <th>0</th>\n",
       "      <td>ANA</td>\n",
       "      <td>1997</td>\n",
       "      <td>31135472</td>\n",
       "    </tr>\n",
       "    <tr>\n",
       "      <th>1</th>\n",
       "      <td>ANA</td>\n",
       "      <td>1998</td>\n",
       "      <td>41281000</td>\n",
       "    </tr>\n",
       "    <tr>\n",
       "      <th>2</th>\n",
       "      <td>ANA</td>\n",
       "      <td>1999</td>\n",
       "      <td>55388166</td>\n",
       "    </tr>\n",
       "    <tr>\n",
       "      <th>3</th>\n",
       "      <td>ANA</td>\n",
       "      <td>2000</td>\n",
       "      <td>51464167</td>\n",
       "    </tr>\n",
       "    <tr>\n",
       "      <th>4</th>\n",
       "      <td>ANA</td>\n",
       "      <td>2001</td>\n",
       "      <td>47535167</td>\n",
       "    </tr>\n",
       "  </tbody>\n",
       "</table>\n",
       "</div>"
      ],
      "text/plain": [
       "  teamID  yearID    salary\n",
       "0    ANA    1997  31135472\n",
       "1    ANA    1998  41281000\n",
       "2    ANA    1999  55388166\n",
       "3    ANA    2000  51464167\n",
       "4    ANA    2001  47535167"
      ]
     },
     "execution_count": 38,
     "metadata": {},
     "output_type": "execute_result"
    }
   ],
   "source": [
    "#your code here\n",
    "salary_summary = salaries.groupby(['teamID','yearID'], as_index=False).aggregate(np.sum)\n",
    "salary_summary.head()"
   ]
  },
  {
   "cell_type": "markdown",
   "metadata": {},
   "source": [
    "#### Problem 1(c)\n",
    "\n",
    "Merge the new summarized Salaries DataFrame and Teams DataFrame together to create a new DataFrame\n",
    "showing wins and total salaries for each team for each year year. Show the head of the new merged DataFrame.\n",
    "\n",
    "**Hint**: Merge the DataFrames using `teamID` and `yearID`."
   ]
  },
  {
   "cell_type": "code",
   "execution_count": 66,
   "metadata": {
    "collapsed": false
   },
   "outputs": [
    {
     "data": {
      "text/html": [
       "<div>\n",
       "<table border=\"1\" class=\"dataframe\">\n",
       "  <thead>\n",
       "    <tr style=\"text-align: right;\">\n",
       "      <th></th>\n",
       "      <th>yearID</th>\n",
       "      <th>teamID</th>\n",
       "      <th>W</th>\n",
       "      <th>salary</th>\n",
       "    </tr>\n",
       "  </thead>\n",
       "  <tbody>\n",
       "    <tr>\n",
       "      <th>0</th>\n",
       "      <td>1985</td>\n",
       "      <td>TOR</td>\n",
       "      <td>99</td>\n",
       "      <td>8812550</td>\n",
       "    </tr>\n",
       "    <tr>\n",
       "      <th>1</th>\n",
       "      <td>1985</td>\n",
       "      <td>NYA</td>\n",
       "      <td>97</td>\n",
       "      <td>14238204</td>\n",
       "    </tr>\n",
       "    <tr>\n",
       "      <th>2</th>\n",
       "      <td>1985</td>\n",
       "      <td>DET</td>\n",
       "      <td>84</td>\n",
       "      <td>10348143</td>\n",
       "    </tr>\n",
       "    <tr>\n",
       "      <th>3</th>\n",
       "      <td>1985</td>\n",
       "      <td>BAL</td>\n",
       "      <td>83</td>\n",
       "      <td>11560712</td>\n",
       "    </tr>\n",
       "    <tr>\n",
       "      <th>4</th>\n",
       "      <td>1985</td>\n",
       "      <td>BOS</td>\n",
       "      <td>81</td>\n",
       "      <td>10897560</td>\n",
       "    </tr>\n",
       "  </tbody>\n",
       "</table>\n",
       "</div>"
      ],
      "text/plain": [
       "   yearID teamID   W    salary\n",
       "0    1985    TOR  99   8812550\n",
       "1    1985    NYA  97  14238204\n",
       "2    1985    DET  84  10348143\n",
       "3    1985    BAL  83  11560712\n",
       "4    1985    BOS  81  10897560"
      ]
     },
     "execution_count": 66,
     "metadata": {},
     "output_type": "execute_result"
    }
   ],
   "source": [
    "#your code here\n",
    "\n",
    "joined = pd.merge(teams, salary_summary, on=['teamID','yearID'])\n",
    "joined.head()"
   ]
  },
  {
   "cell_type": "markdown",
   "metadata": {},
   "source": [
    "#### Problem 1(d)\n",
    "\n",
    "How would you graphically display the relationship between total wins and total salaries for a given year? What kind of plot would be best? Choose a plot to show this relationship and specifically annotate the Oakland baseball team on the on the plot. Show this plot across multiple years. In which years can you detect a competitive advantage from the Oakland baseball team of using data science? When did this end? \n",
    "\n",
    "**Hints**: Use a `for` loop to consider multiple years. Use the `teamID` (three letter representation of the team name) to save space on the plot.  "
   ]
  },
  {
   "cell_type": "code",
   "execution_count": 67,
   "metadata": {
    "collapsed": false
   },
   "outputs": [
    {
     "data": {
      "text/plain": [
       "pandas.core.frame.DataFrame"
      ]
     },
     "execution_count": 67,
     "metadata": {},
     "output_type": "execute_result"
    }
   ],
   "source": [
    "type(joined)"
   ]
  },
  {
   "cell_type": "code",
   "execution_count": 89,
   "metadata": {
    "collapsed": false,
    "scrolled": false
   },
   "outputs": [
    {
     "data": {
      "image/png": "[encoded data removed]",
      "text/plain": [
       "<matplotlib.figure.Figure at 0xceabe48>"
      ]
     },
     "metadata": {},
     "output_type": "display_data"
    },
    {
     "data": {
      "image/png": "[encoded data removed]",
      "text/plain": [
       "<matplotlib.figure.Figure at 0xced4c88>"
      ]
     },
     "metadata": {},
     "output_type": "display_data"
    },
    {
     "data": {
      "image/png": "[encoded data removed]",
      "text/plain": [
       "<matplotlib.figure.Figure at 0xd016b00>"
      ]
     },
     "metadata": {},
     "output_type": "display_data"
    },
    {
     "data": {
      "image/png": "[encoded data removed]",
      "text/plain": [
       "<matplotlib.figure.Figure at 0xcedea90>"
      ]
     },
     "metadata": {},
     "output_type": "display_data"
    },
    {
     "data": {
      "image/png": "[encoded data removed]",
      "text/plain": [
       "<matplotlib.figure.Figure at 0xb4c5940>"
      ]
     },
     "metadata": {},
     "output_type": "display_data"
    },
    {
     "data": {
      "image/png": "[encoded data removed]",
      "text/plain": [
       "<matplotlib.figure.Figure at 0xd006b38>"
      ]
     },
     "metadata": {},
     "output_type": "display_data"
    },
    {
     "data": {
      "image/png": "[encoded data removed]",
      "text/plain": [
       "<matplotlib.figure.Figure at 0xcd0bf60>"
      ]
     },
     "metadata": {},
     "output_type": "display_data"
    }
   ],
   "source": [
    "#your code here\n",
    "\n",
    "#yr = 2000\n",
    "years = range(2000,2007)\n",
    "teamName = 'OAK'\n",
    "\n",
    "for yr in years:\n",
    "    df = joined[joined['yearID']==yr]\n",
    "    plt.scatter(df['salary']/1000000, df['W'])\n",
    "    plt.title('Wins versus Salaries in year ' + str(yr))\n",
    "    plt.xlabel('Total Salary (in millions)')\n",
    "    plt.ylabel('Wins')\n",
    "    plt.xlim(0, 180)\n",
    "    plt.ylim(30, 130)\n",
    "    plt.annotate(\n",
    "        teamName,\n",
    "        xy = (df['salary'][df['teamID'] == teamName] / 1000000,  df['W'][df['teamID'] == teamName]), \n",
    "        xytext = (-20, 20),\n",
    "        textcoords = 'offset points', \n",
    "        ha = 'right',\n",
    "        va = 'bottom',\n",
    "        bbox = dict(boxstyle = 'round,pad=0.5', fc = 'yellow', alpha = 0.5),\n",
    "        arrowprops = dict(arrowstyle = '->', facecolor = 'black' , connectionstyle = 'arc3,rad=0')\n",
    "    )\n",
    "    plt.show()\n",
    "\n",
    "#plt.scatter(salarySummary_teams.yearID[1985.0].salary, salarySummary_teams.yearID[1985.0].W)\n",
    "\n"
   ]
  },
  {
   "cell_type": "markdown",
   "metadata": {},
   "source": [
    "#### Problem 1(e):\n",
    "\n",
    "**For AC209 Students**: Fit a linear regression to the data from each year and obtain the residuals. Plot the residuals against time to detect patterns that support your answer in 1(d). "
   ]
  },
  {
   "cell_type": "code",
   "execution_count": 5,
   "metadata": {
    "collapsed": false
   },
   "outputs": [],
   "source": [
    "#your code here"
   ]
  },
  {
   "cell_type": "markdown",
   "metadata": {},
   "source": [
    "## Discussion for Problem 1\n",
    "\n",
    "*Write a brief discussion of your conclusions to the questions and tasks above in 100 words or less.*\n",
    "\n",
    "---\n"
   ]
  },
  {
   "cell_type": "markdown",
   "metadata": {},
   "source": [
    "## Problem 2\n",
    "\n",
    "Several media reports have demonstrated the income inequality has increased in the US during this last decade. Here we will look at global data. Use exploratory data analysis to determine if the gap between Africa/Latin America/Asia and Europe/NorthAmerica has increased, decreased or stayed the same during the last two decades. "
   ]
  },
  {
   "cell_type": "markdown",
   "metadata": {},
   "source": [
    "#### Problem 2(a)\n",
    "\n",
    "Using the list of countries by continent from [World Atlas](http://www.worldatlas.com/cntycont.htm) data, load in the `countries.csv` file into a pandas DataFrame and name this data set as `countries`.  This data set can be found on Github in the 2014_data repository [here](https://github.com/cs109/2014_data/blob/master/countries.csv). "
   ]
  },
  {
   "cell_type": "code",
   "execution_count": 232,
   "metadata": {
    "collapsed": false
   },
   "outputs": [
    {
     "name": "stdout",
     "output_type": "stream",
     "text": [
      "    Country  Region\n",
      "0   Algeria  AFRICA\n",
      "1    Angola  AFRICA\n",
      "2     Benin  AFRICA\n",
      "3  Botswana  AFRICA\n",
      "4   Burkina  AFRICA\n"
     ]
    }
   ],
   "source": [
    "#your code here\n",
    "countries = pd.read_csv('HW1-data/countries.csv')\n",
    "#countries.set_index('Country', inplace=True)\n",
    "print(countries.head())"
   ]
  },
  {
   "cell_type": "markdown",
   "metadata": {},
   "source": [
    "Using the [data available on Gapminder](http://www.gapminder.org/data/), load in the [Income per person (GDP/capita, PPP$ inflation-adjusted)](https://spreadsheets.google.com/pub?key=phAwcNAVuyj1jiMAkmq1iMg&gid=0) as a pandas DataFrame and name this data set as `income`.\n",
    "\n",
    "**Hint**: Consider using the pandas function `pandas.read_excel()` to read in the .xlsx file directly."
   ]
  },
  {
   "cell_type": "code",
   "execution_count": 238,
   "metadata": {
    "collapsed": false
   },
   "outputs": [
    {
     "name": "stdout",
     "output_type": "stream",
     "text": [
      "          GDP per capita   1800   1801   1802   1803   1804   1805   1806  \\\n",
      "0               Abkhazia    NaN    NaN    NaN    NaN    NaN    NaN    NaN   \n",
      "1            Afghanistan  603.0  603.0  603.0  603.0  603.0  603.0  603.0   \n",
      "2  Akrotiri and Dhekelia    NaN    NaN    NaN    NaN    NaN    NaN    NaN   \n",
      "3                Albania  667.0  667.0  668.0  668.0  668.0  668.0  668.0   \n",
      "4                Algeria  716.0  716.0  717.0  718.0  719.0  720.0  721.0   \n",
      "\n",
      "    1807   1808   ...        2006     2007     2008     2009     2010  \\\n",
      "0    NaN    NaN   ...         NaN      NaN      NaN      NaN      NaN   \n",
      "1  603.0  603.0   ...      1173.0   1298.0   1311.0   1548.0   1637.0   \n",
      "2    NaN    NaN   ...         NaN      NaN      NaN      NaN      NaN   \n",
      "3  668.0  668.0   ...      7476.0   7977.0   8644.0   8994.0   9374.0   \n",
      "4  722.0  723.0   ...     12088.0  12289.0  12314.0  12285.0  12494.0   \n",
      "\n",
      "      2011     2012     2013     2014     2015  \n",
      "0      NaN      NaN      NaN      NaN      NaN  \n",
      "1   1695.0   1893.0   1884.0   1877.0   1925.0  \n",
      "2      NaN      NaN      NaN      NaN      NaN  \n",
      "3   9640.0   9811.0   9961.0  10160.0  10620.0  \n",
      "4  12606.0  12779.0  12893.0  13179.0  13434.0  \n",
      "\n",
      "[5 rows x 217 columns]\n"
     ]
    }
   ],
   "source": [
    "#your code here\n",
    "income = pd.read_excel('HW1-data/indicator gapminder gdp_per_capita_ppp.xlsx')\n",
    "print(income.head())"
   ]
  },
  {
   "cell_type": "markdown",
   "metadata": {},
   "source": [
    "Transform the data set to have years as the rows and countries as the columns. Show the head of this data set when it is loaded. "
   ]
  },
  {
   "cell_type": "code",
   "execution_count": 239,
   "metadata": {
    "collapsed": false
   },
   "outputs": [
    {
     "name": "stdout",
     "output_type": "stream",
     "text": [
      "          GDP per capita   1800   1801   1802   1803   1804   1805   1806  \\\n",
      "0               Abkhazia    NaN    NaN    NaN    NaN    NaN    NaN    NaN   \n",
      "1            Afghanistan  603.0  603.0  603.0  603.0  603.0  603.0  603.0   \n",
      "2  Akrotiri and Dhekelia    NaN    NaN    NaN    NaN    NaN    NaN    NaN   \n",
      "3                Albania  667.0  667.0  668.0  668.0  668.0  668.0  668.0   \n",
      "4                Algeria  716.0  716.0  717.0  718.0  719.0  720.0  721.0   \n",
      "\n",
      "    1807   1808   ...        2006     2007     2008     2009     2010  \\\n",
      "0    NaN    NaN   ...         NaN      NaN      NaN      NaN      NaN   \n",
      "1  603.0  603.0   ...      1173.0   1298.0   1311.0   1548.0   1637.0   \n",
      "2    NaN    NaN   ...         NaN      NaN      NaN      NaN      NaN   \n",
      "3  668.0  668.0   ...      7476.0   7977.0   8644.0   8994.0   9374.0   \n",
      "4  722.0  723.0   ...     12088.0  12289.0  12314.0  12285.0  12494.0   \n",
      "\n",
      "      2011     2012     2013     2014     2015  \n",
      "0      NaN      NaN      NaN      NaN      NaN  \n",
      "1   1695.0   1893.0   1884.0   1877.0   1925.0  \n",
      "2      NaN      NaN      NaN      NaN      NaN  \n",
      "3   9640.0   9811.0   9961.0  10160.0  10620.0  \n",
      "4  12606.0  12779.0  12893.0  13179.0  13434.0  \n",
      "\n",
      "[5 rows x 217 columns]\n",
      "\n",
      "                              GDP per capita   1800   1801   1802   1803  \\\n",
      "GDP per capita                                                             \n",
      "Abkhazia                            Abkhazia    NaN    NaN    NaN    NaN   \n",
      "Afghanistan                      Afghanistan  603.0  603.0  603.0  603.0   \n",
      "Akrotiri and Dhekelia  Akrotiri and Dhekelia    NaN    NaN    NaN    NaN   \n",
      "Albania                              Albania  667.0  667.0  668.0  668.0   \n",
      "Algeria                              Algeria  716.0  716.0  717.0  718.0   \n",
      "\n",
      "                        1804   1805   1806   1807   1808   ...        2006  \\\n",
      "GDP per capita                                             ...               \n",
      "Abkhazia                 NaN    NaN    NaN    NaN    NaN   ...         NaN   \n",
      "Afghanistan            603.0  603.0  603.0  603.0  603.0   ...      1173.0   \n",
      "Akrotiri and Dhekelia    NaN    NaN    NaN    NaN    NaN   ...         NaN   \n",
      "Albania                668.0  668.0  668.0  668.0  668.0   ...      7476.0   \n",
      "Algeria                719.0  720.0  721.0  722.0  723.0   ...     12088.0   \n",
      "\n",
      "                          2007     2008     2009     2010     2011     2012  \\\n",
      "GDP per capita                                                                \n",
      "Abkhazia                   NaN      NaN      NaN      NaN      NaN      NaN   \n",
      "Afghanistan             1298.0   1311.0   1548.0   1637.0   1695.0   1893.0   \n",
      "Akrotiri and Dhekelia      NaN      NaN      NaN      NaN      NaN      NaN   \n",
      "Albania                 7977.0   8644.0   8994.0   9374.0   9640.0   9811.0   \n",
      "Algeria                12289.0  12314.0  12285.0  12494.0  12606.0  12779.0   \n",
      "\n",
      "                          2013     2014     2015  \n",
      "GDP per capita                                    \n",
      "Abkhazia                   NaN      NaN      NaN  \n",
      "Afghanistan             1884.0   1877.0   1925.0  \n",
      "Akrotiri and Dhekelia      NaN      NaN      NaN  \n",
      "Albania                 9961.0  10160.0  10620.0  \n",
      "Algeria                12893.0  13179.0  13434.0  \n",
      "\n",
      "[5 rows x 217 columns]\n",
      "\n"
     ]
    }
   ],
   "source": [
    "#your code here\n",
    "\n",
    "print(income.head())\n",
    "print()\n",
    "income.index=income[income.columns[0]] # Make the countries as the index\n",
    "print(income.head())\n",
    "print()\n",
    "\n",
    "#income = income.transpose()\n",
    "#income.fillna(0, inplace=True)\n",
    "#income.head()"
   ]
  },
  {
   "cell_type": "code",
   "execution_count": 240,
   "metadata": {
    "collapsed": false
   },
   "outputs": [
    {
     "name": "stdout",
     "output_type": "stream",
     "text": [
      "                        1800   1801   1802   1803   1804   1805   1806   1807  \\\n",
      "GDP per capita                                                                  \n",
      "Abkhazia                 NaN    NaN    NaN    NaN    NaN    NaN    NaN    NaN   \n",
      "Afghanistan            603.0  603.0  603.0  603.0  603.0  603.0  603.0  603.0   \n",
      "Akrotiri and Dhekelia    NaN    NaN    NaN    NaN    NaN    NaN    NaN    NaN   \n",
      "Albania                667.0  667.0  668.0  668.0  668.0  668.0  668.0  668.0   \n",
      "Algeria                716.0  716.0  717.0  718.0  719.0  720.0  721.0  722.0   \n",
      "\n",
      "                        1808   1809   ...        2006     2007     2008  \\\n",
      "GDP per capita                        ...                                 \n",
      "Abkhazia                 NaN    NaN   ...         NaN      NaN      NaN   \n",
      "Afghanistan            603.0  603.0   ...      1173.0   1298.0   1311.0   \n",
      "Akrotiri and Dhekelia    NaN    NaN   ...         NaN      NaN      NaN   \n",
      "Albania                668.0  668.0   ...      7476.0   7977.0   8644.0   \n",
      "Algeria                723.0  724.0   ...     12088.0  12289.0  12314.0   \n",
      "\n",
      "                          2009     2010     2011     2012     2013     2014  \\\n",
      "GDP per capita                                                                \n",
      "Abkhazia                   NaN      NaN      NaN      NaN      NaN      NaN   \n",
      "Afghanistan             1548.0   1637.0   1695.0   1893.0   1884.0   1877.0   \n",
      "Akrotiri and Dhekelia      NaN      NaN      NaN      NaN      NaN      NaN   \n",
      "Albania                 8994.0   9374.0   9640.0   9811.0   9961.0  10160.0   \n",
      "Algeria                12285.0  12494.0  12606.0  12779.0  12893.0  13179.0   \n",
      "\n",
      "                          2015  \n",
      "GDP per capita                  \n",
      "Abkhazia                   NaN  \n",
      "Afghanistan             1925.0  \n",
      "Akrotiri and Dhekelia      NaN  \n",
      "Albania                10620.0  \n",
      "Algeria                13434.0  \n",
      "\n",
      "[5 rows x 216 columns]\n",
      "\n"
     ]
    }
   ],
   "source": [
    "income = income.drop(income.columns[0], axis = 1) \n",
    "print(income.head())\n",
    "print()\n"
   ]
  },
  {
   "cell_type": "code",
   "execution_count": 241,
   "metadata": {
    "collapsed": false
   },
   "outputs": [
    {
     "name": "stdout",
     "output_type": "stream",
     "text": [
      "                        1800   1801   1802   1803   1804   1805   1806   1807  \\\n",
      "GDP per capita                                                                  \n",
      "Abkhazia                 NaN    NaN    NaN    NaN    NaN    NaN    NaN    NaN   \n",
      "Afghanistan            603.0  603.0  603.0  603.0  603.0  603.0  603.0  603.0   \n",
      "Akrotiri and Dhekelia    NaN    NaN    NaN    NaN    NaN    NaN    NaN    NaN   \n",
      "Albania                667.0  667.0  668.0  668.0  668.0  668.0  668.0  668.0   \n",
      "Algeria                716.0  716.0  717.0  718.0  719.0  720.0  721.0  722.0   \n",
      "\n",
      "                        1808   1809   ...        2006     2007     2008  \\\n",
      "GDP per capita                        ...                                 \n",
      "Abkhazia                 NaN    NaN   ...         NaN      NaN      NaN   \n",
      "Afghanistan            603.0  603.0   ...      1173.0   1298.0   1311.0   \n",
      "Akrotiri and Dhekelia    NaN    NaN   ...         NaN      NaN      NaN   \n",
      "Albania                668.0  668.0   ...      7476.0   7977.0   8644.0   \n",
      "Algeria                723.0  724.0   ...     12088.0  12289.0  12314.0   \n",
      "\n",
      "                          2009     2010     2011     2012     2013     2014  \\\n",
      "GDP per capita                                                                \n",
      "Abkhazia                   NaN      NaN      NaN      NaN      NaN      NaN   \n",
      "Afghanistan             1548.0   1637.0   1695.0   1893.0   1884.0   1877.0   \n",
      "Akrotiri and Dhekelia      NaN      NaN      NaN      NaN      NaN      NaN   \n",
      "Albania                 8994.0   9374.0   9640.0   9811.0   9961.0  10160.0   \n",
      "Algeria                12285.0  12494.0  12606.0  12779.0  12893.0  13179.0   \n",
      "\n",
      "                          2015  \n",
      "GDP per capita                  \n",
      "Abkhazia                   NaN  \n",
      "Afghanistan             1925.0  \n",
      "Akrotiri and Dhekelia      NaN  \n",
      "Albania                10620.0  \n",
      "Algeria                13434.0  \n",
      "\n",
      "[5 rows x 216 columns]\n",
      "\n"
     ]
    }
   ],
   "source": [
    "income.columns = map(lambda x: int(x), income.columns) # Convert years from floats to ints\n",
    "print(income.head())\n",
    "print()\n",
    "\n"
   ]
  },
  {
   "cell_type": "code",
   "execution_count": 242,
   "metadata": {
    "collapsed": false
   },
   "outputs": [
    {
     "data": {
      "text/html": [
       "<div>\n",
       "<table border=\"1\" class=\"dataframe\">\n",
       "  <thead>\n",
       "    <tr style=\"text-align: right;\">\n",
       "      <th>GDP per capita</th>\n",
       "      <th>Abkhazia</th>\n",
       "      <th>Afghanistan</th>\n",
       "      <th>Akrotiri and Dhekelia</th>\n",
       "      <th>Albania</th>\n",
       "      <th>Algeria</th>\n",
       "      <th>American Samoa</th>\n",
       "      <th>Andorra</th>\n",
       "      <th>Angola</th>\n",
       "      <th>Anguilla</th>\n",
       "      <th>Antigua and Barbuda</th>\n",
       "      <th>...</th>\n",
       "      <th>North Yemen (former)</th>\n",
       "      <th>South Yemen (former)</th>\n",
       "      <th>Yemen</th>\n",
       "      <th>Yugoslavia</th>\n",
       "      <th>Zambia</th>\n",
       "      <th>Zimbabwe</th>\n",
       "      <th>Åland</th>\n",
       "      <th>South Sudan</th>\n",
       "      <th>nan</th>\n",
       "      <th>nan</th>\n",
       "    </tr>\n",
       "  </thead>\n",
       "  <tbody>\n",
       "    <tr>\n",
       "      <th>1800</th>\n",
       "      <td>NaN</td>\n",
       "      <td>603.0</td>\n",
       "      <td>NaN</td>\n",
       "      <td>667.0</td>\n",
       "      <td>716.0</td>\n",
       "      <td>NaN</td>\n",
       "      <td>1197.0</td>\n",
       "      <td>618.0</td>\n",
       "      <td>NaN</td>\n",
       "      <td>757.0</td>\n",
       "      <td>...</td>\n",
       "      <td>NaN</td>\n",
       "      <td>NaN</td>\n",
       "      <td>877.0</td>\n",
       "      <td>NaN</td>\n",
       "      <td>663.0</td>\n",
       "      <td>869.0</td>\n",
       "      <td>NaN</td>\n",
       "      <td>507.0</td>\n",
       "      <td>NaN</td>\n",
       "      <td>NaN</td>\n",
       "    </tr>\n",
       "    <tr>\n",
       "      <th>1801</th>\n",
       "      <td>NaN</td>\n",
       "      <td>603.0</td>\n",
       "      <td>NaN</td>\n",
       "      <td>667.0</td>\n",
       "      <td>716.0</td>\n",
       "      <td>NaN</td>\n",
       "      <td>1199.0</td>\n",
       "      <td>620.0</td>\n",
       "      <td>NaN</td>\n",
       "      <td>757.0</td>\n",
       "      <td>...</td>\n",
       "      <td>NaN</td>\n",
       "      <td>NaN</td>\n",
       "      <td>879.0</td>\n",
       "      <td>NaN</td>\n",
       "      <td>665.0</td>\n",
       "      <td>870.0</td>\n",
       "      <td>NaN</td>\n",
       "      <td>507.0</td>\n",
       "      <td>NaN</td>\n",
       "      <td>NaN</td>\n",
       "    </tr>\n",
       "    <tr>\n",
       "      <th>1802</th>\n",
       "      <td>NaN</td>\n",
       "      <td>603.0</td>\n",
       "      <td>NaN</td>\n",
       "      <td>668.0</td>\n",
       "      <td>717.0</td>\n",
       "      <td>NaN</td>\n",
       "      <td>1201.0</td>\n",
       "      <td>623.0</td>\n",
       "      <td>NaN</td>\n",
       "      <td>757.0</td>\n",
       "      <td>...</td>\n",
       "      <td>NaN</td>\n",
       "      <td>NaN</td>\n",
       "      <td>882.0</td>\n",
       "      <td>NaN</td>\n",
       "      <td>667.0</td>\n",
       "      <td>871.0</td>\n",
       "      <td>NaN</td>\n",
       "      <td>507.0</td>\n",
       "      <td>NaN</td>\n",
       "      <td>NaN</td>\n",
       "    </tr>\n",
       "    <tr>\n",
       "      <th>1803</th>\n",
       "      <td>NaN</td>\n",
       "      <td>603.0</td>\n",
       "      <td>NaN</td>\n",
       "      <td>668.0</td>\n",
       "      <td>718.0</td>\n",
       "      <td>NaN</td>\n",
       "      <td>1204.0</td>\n",
       "      <td>626.0</td>\n",
       "      <td>NaN</td>\n",
       "      <td>757.0</td>\n",
       "      <td>...</td>\n",
       "      <td>NaN</td>\n",
       "      <td>NaN</td>\n",
       "      <td>884.0</td>\n",
       "      <td>NaN</td>\n",
       "      <td>668.0</td>\n",
       "      <td>872.0</td>\n",
       "      <td>NaN</td>\n",
       "      <td>507.0</td>\n",
       "      <td>NaN</td>\n",
       "      <td>NaN</td>\n",
       "    </tr>\n",
       "    <tr>\n",
       "      <th>1804</th>\n",
       "      <td>NaN</td>\n",
       "      <td>603.0</td>\n",
       "      <td>NaN</td>\n",
       "      <td>668.0</td>\n",
       "      <td>719.0</td>\n",
       "      <td>NaN</td>\n",
       "      <td>1206.0</td>\n",
       "      <td>628.0</td>\n",
       "      <td>NaN</td>\n",
       "      <td>757.0</td>\n",
       "      <td>...</td>\n",
       "      <td>NaN</td>\n",
       "      <td>NaN</td>\n",
       "      <td>887.0</td>\n",
       "      <td>NaN</td>\n",
       "      <td>670.0</td>\n",
       "      <td>873.0</td>\n",
       "      <td>NaN</td>\n",
       "      <td>508.0</td>\n",
       "      <td>NaN</td>\n",
       "      <td>NaN</td>\n",
       "    </tr>\n",
       "  </tbody>\n",
       "</table>\n",
       "<p>5 rows × 262 columns</p>\n",
       "</div>"
      ],
      "text/plain": [
       "GDP per capita  Abkhazia  Afghanistan  Akrotiri and Dhekelia  Albania  \\\n",
       "1800                 NaN        603.0                    NaN    667.0   \n",
       "1801                 NaN        603.0                    NaN    667.0   \n",
       "1802                 NaN        603.0                    NaN    668.0   \n",
       "1803                 NaN        603.0                    NaN    668.0   \n",
       "1804                 NaN        603.0                    NaN    668.0   \n",
       "\n",
       "GDP per capita  Algeria  American Samoa  Andorra  Angola  Anguilla  \\\n",
       "1800              716.0             NaN   1197.0   618.0       NaN   \n",
       "1801              716.0             NaN   1199.0   620.0       NaN   \n",
       "1802              717.0             NaN   1201.0   623.0       NaN   \n",
       "1803              718.0             NaN   1204.0   626.0       NaN   \n",
       "1804              719.0             NaN   1206.0   628.0       NaN   \n",
       "\n",
       "GDP per capita  Antigua and Barbuda ...   North Yemen (former)  \\\n",
       "1800                          757.0 ...                    NaN   \n",
       "1801                          757.0 ...                    NaN   \n",
       "1802                          757.0 ...                    NaN   \n",
       "1803                          757.0 ...                    NaN   \n",
       "1804                          757.0 ...                    NaN   \n",
       "\n",
       "GDP per capita  South Yemen (former)  Yemen  Yugoslavia  Zambia  Zimbabwe  \\\n",
       "1800                             NaN  877.0         NaN   663.0     869.0   \n",
       "1801                             NaN  879.0         NaN   665.0     870.0   \n",
       "1802                             NaN  882.0         NaN   667.0     871.0   \n",
       "1803                             NaN  884.0         NaN   668.0     872.0   \n",
       "1804                             NaN  887.0         NaN   670.0     873.0   \n",
       "\n",
       "GDP per capita  Åland  South Sudan  NaN  NaN  \n",
       "1800              NaN        507.0  NaN  NaN  \n",
       "1801              NaN        507.0  NaN  NaN  \n",
       "1802              NaN        507.0  NaN  NaN  \n",
       "1803              NaN        507.0  NaN  NaN  \n",
       "1804              NaN        508.0  NaN  NaN  \n",
       "\n",
       "[5 rows x 262 columns]"
      ]
     },
     "execution_count": 242,
     "metadata": {},
     "output_type": "execute_result"
    }
   ],
   "source": [
    "income = income.transpose()\n",
    "income.head()\n"
   ]
  },
  {
   "cell_type": "markdown",
   "metadata": {},
   "source": [
    "#### Problem 2(b)\n",
    "\n",
    "Graphically display the distribution of income per person across all countries in the world for any given year (e.g. 2000).  What kind of plot would be best? "
   ]
  },
  {
   "cell_type": "code",
   "execution_count": 244,
   "metadata": {
    "collapsed": false
   },
   "outputs": [
    {
     "data": {
      "image/png": "[encoded data removed]",
      "text/plain": [
       "<matplotlib.figure.Figure at 0xea18860>"
      ]
     },
     "metadata": {},
     "output_type": "display_data"
    }
   ],
   "source": [
    "#your code here\n",
    "\n",
    "year = 2000\n",
    "#df = income[['GDP per capita',yr]]\n",
    "#df['pct'] = df[yr] / df[yr].sum()\n",
    "#df['wgt'] = df.apply(lambda row: (row[yr]/sum(df[yr]))*100, axis=1)\n",
    "#df.head(n=500)\n",
    "plt.plot(subplots=True)\n",
    "plt.hist(income.ix[year].dropna().values, bins = 20)\n",
    "plt.title('Year: %i' % year)\n",
    "plt.xlabel('Income per person')\n",
    "plt.ylabel('Frequency')\n",
    "plt.show()\n",
    "\n",
    "\n",
    "\n",
    "\n",
    "\n",
    "#df.plot.bar()\n",
    "#plt.bar(df[yr],len(df['GDP per capita'])-1)\n",
    "#plt.xticks(len(df['GDP per capita']),df['GDP per capita'])\n",
    "#plt.show()\n",
    "\n",
    "\n",
    "\n",
    "#DayOfWeekOfCall = np.array?\n",
    "#range(len(df['GDP per capita']))#[1,2,3]\n",
    "#DispatchesOnThisWeekday = [77, 32, 42]\n",
    "\n",
    "#LABELS = [\"Monday\", \"Tuesday\", \"Wednesday\"]\n",
    "\n",
    "#plt.bar(DayOfWeekOfCall, DispatchesOnThisWeekday, align='center')\n",
    "#plt.xticks(DayOfWeekOfCall, LABELS)\n",
    "#plt.show()"
   ]
  },
  {
   "cell_type": "markdown",
   "metadata": {},
   "source": [
    "#### Problem 2(c)\n",
    "\n",
    "Write a function to merge the `countries` and `income` data sets for any given year. "
   ]
  },
  {
   "cell_type": "code",
   "execution_count": 202,
   "metadata": {
    "collapsed": false
   },
   "outputs": [
    {
     "data": {
      "text/html": [
       "<div>\n",
       "<table border=\"1\" class=\"dataframe\">\n",
       "  <thead>\n",
       "    <tr style=\"text-align: right;\">\n",
       "      <th></th>\n",
       "      <th>Region</th>\n",
       "      <th>1800</th>\n",
       "      <th>1801</th>\n",
       "      <th>1802</th>\n",
       "      <th>1803</th>\n",
       "      <th>1804</th>\n",
       "      <th>1805</th>\n",
       "      <th>1806</th>\n",
       "      <th>1807</th>\n",
       "      <th>1808</th>\n",
       "      <th>...</th>\n",
       "      <th>2006</th>\n",
       "      <th>2007</th>\n",
       "      <th>2008</th>\n",
       "      <th>2009</th>\n",
       "      <th>2010</th>\n",
       "      <th>2011</th>\n",
       "      <th>2012</th>\n",
       "      <th>2013</th>\n",
       "      <th>2014</th>\n",
       "      <th>2015</th>\n",
       "    </tr>\n",
       "  </thead>\n",
       "  <tbody>\n",
       "    <tr>\n",
       "      <th>Afghanistan</th>\n",
       "      <td>ASIA</td>\n",
       "      <td>603</td>\n",
       "      <td>603</td>\n",
       "      <td>603</td>\n",
       "      <td>603</td>\n",
       "      <td>603</td>\n",
       "      <td>603</td>\n",
       "      <td>603</td>\n",
       "      <td>603</td>\n",
       "      <td>603</td>\n",
       "      <td>...</td>\n",
       "      <td>1173</td>\n",
       "      <td>1298</td>\n",
       "      <td>1311</td>\n",
       "      <td>1548</td>\n",
       "      <td>1637</td>\n",
       "      <td>1695</td>\n",
       "      <td>1893</td>\n",
       "      <td>1884</td>\n",
       "      <td>1877</td>\n",
       "      <td>1925</td>\n",
       "    </tr>\n",
       "    <tr>\n",
       "      <th>Albania</th>\n",
       "      <td>EUROPE</td>\n",
       "      <td>667</td>\n",
       "      <td>667</td>\n",
       "      <td>668</td>\n",
       "      <td>668</td>\n",
       "      <td>668</td>\n",
       "      <td>668</td>\n",
       "      <td>668</td>\n",
       "      <td>668</td>\n",
       "      <td>668</td>\n",
       "      <td>...</td>\n",
       "      <td>7476</td>\n",
       "      <td>7977</td>\n",
       "      <td>8644</td>\n",
       "      <td>8994</td>\n",
       "      <td>9374</td>\n",
       "      <td>9640</td>\n",
       "      <td>9811</td>\n",
       "      <td>9961</td>\n",
       "      <td>10160</td>\n",
       "      <td>10620</td>\n",
       "    </tr>\n",
       "    <tr>\n",
       "      <th>Algeria</th>\n",
       "      <td>AFRICA</td>\n",
       "      <td>716</td>\n",
       "      <td>716</td>\n",
       "      <td>717</td>\n",
       "      <td>718</td>\n",
       "      <td>719</td>\n",
       "      <td>720</td>\n",
       "      <td>721</td>\n",
       "      <td>722</td>\n",
       "      <td>723</td>\n",
       "      <td>...</td>\n",
       "      <td>12088</td>\n",
       "      <td>12289</td>\n",
       "      <td>12314</td>\n",
       "      <td>12285</td>\n",
       "      <td>12494</td>\n",
       "      <td>12606</td>\n",
       "      <td>12779</td>\n",
       "      <td>12893</td>\n",
       "      <td>13179</td>\n",
       "      <td>13434</td>\n",
       "    </tr>\n",
       "    <tr>\n",
       "      <th>Andorra</th>\n",
       "      <td>EUROPE</td>\n",
       "      <td>1197</td>\n",
       "      <td>1199</td>\n",
       "      <td>1201</td>\n",
       "      <td>1204</td>\n",
       "      <td>1206</td>\n",
       "      <td>1208</td>\n",
       "      <td>1210</td>\n",
       "      <td>1212</td>\n",
       "      <td>1215</td>\n",
       "      <td>...</td>\n",
       "      <td>42738</td>\n",
       "      <td>43442</td>\n",
       "      <td>41426</td>\n",
       "      <td>41735</td>\n",
       "      <td>38982</td>\n",
       "      <td>41958</td>\n",
       "      <td>41926</td>\n",
       "      <td>43735</td>\n",
       "      <td>44929</td>\n",
       "      <td>46577</td>\n",
       "    </tr>\n",
       "    <tr>\n",
       "      <th>Angola</th>\n",
       "      <td>AFRICA</td>\n",
       "      <td>618</td>\n",
       "      <td>620</td>\n",
       "      <td>623</td>\n",
       "      <td>626</td>\n",
       "      <td>628</td>\n",
       "      <td>631</td>\n",
       "      <td>634</td>\n",
       "      <td>637</td>\n",
       "      <td>640</td>\n",
       "      <td>...</td>\n",
       "      <td>5445</td>\n",
       "      <td>6453</td>\n",
       "      <td>7103</td>\n",
       "      <td>7039</td>\n",
       "      <td>7047</td>\n",
       "      <td>7094</td>\n",
       "      <td>7230</td>\n",
       "      <td>7488</td>\n",
       "      <td>7546</td>\n",
       "      <td>7615</td>\n",
       "    </tr>\n",
       "  </tbody>\n",
       "</table>\n",
       "<p>5 rows × 217 columns</p>\n",
       "</div>"
      ],
      "text/plain": [
       "             Region  1800  1801  1802  1803  1804  1805  1806  1807  1808  \\\n",
       "Afghanistan    ASIA   603   603   603   603   603   603   603   603   603   \n",
       "Albania      EUROPE   667   667   668   668   668   668   668   668   668   \n",
       "Algeria      AFRICA   716   716   717   718   719   720   721   722   723   \n",
       "Andorra      EUROPE  1197  1199  1201  1204  1206  1208  1210  1212  1215   \n",
       "Angola       AFRICA   618   620   623   626   628   631   634   637   640   \n",
       "\n",
       "             ...     2006   2007   2008   2009   2010   2011   2012   2013  \\\n",
       "Afghanistan  ...     1173   1298   1311   1548   1637   1695   1893   1884   \n",
       "Albania      ...     7476   7977   8644   8994   9374   9640   9811   9961   \n",
       "Algeria      ...    12088  12289  12314  12285  12494  12606  12779  12893   \n",
       "Andorra      ...    42738  43442  41426  41735  38982  41958  41926  43735   \n",
       "Angola       ...     5445   6453   7103   7039   7047   7094   7230   7488   \n",
       "\n",
       "              2014   2015  \n",
       "Afghanistan   1877   1925  \n",
       "Albania      10160  10620  \n",
       "Algeria      13179  13434  \n",
       "Andorra      44929  46577  \n",
       "Angola        7546   7615  \n",
       "\n",
       "[5 rows x 217 columns]"
      ]
     },
     "execution_count": 202,
     "metadata": {},
     "output_type": "execute_result"
    }
   ],
   "source": [
    "joined = pd.merge(countries, income, left_index=True, right_index=True)\n",
    "joined.head()\n"
   ]
  },
  {
   "cell_type": "code",
   "execution_count": 253,
   "metadata": {
    "collapsed": false
   },
   "outputs": [
    {
     "data": {
      "text/html": [
       "<div>\n",
       "<table border=\"1\" class=\"dataframe\">\n",
       "  <thead>\n",
       "    <tr style=\"text-align: right;\">\n",
       "      <th></th>\n",
       "      <th>Income</th>\n",
       "      <th>Country</th>\n",
       "      <th>Region</th>\n",
       "    </tr>\n",
       "  </thead>\n",
       "  <tbody>\n",
       "    <tr>\n",
       "      <th>0</th>\n",
       "      <td>1637.0</td>\n",
       "      <td>Afghanistan</td>\n",
       "      <td>ASIA</td>\n",
       "    </tr>\n",
       "    <tr>\n",
       "      <th>1</th>\n",
       "      <td>9374.0</td>\n",
       "      <td>Albania</td>\n",
       "      <td>EUROPE</td>\n",
       "    </tr>\n",
       "    <tr>\n",
       "      <th>2</th>\n",
       "      <td>12494.0</td>\n",
       "      <td>Algeria</td>\n",
       "      <td>AFRICA</td>\n",
       "    </tr>\n",
       "    <tr>\n",
       "      <th>3</th>\n",
       "      <td>38982.0</td>\n",
       "      <td>Andorra</td>\n",
       "      <td>EUROPE</td>\n",
       "    </tr>\n",
       "    <tr>\n",
       "      <th>4</th>\n",
       "      <td>7047.0</td>\n",
       "      <td>Angola</td>\n",
       "      <td>AFRICA</td>\n",
       "    </tr>\n",
       "    <tr>\n",
       "      <th>5</th>\n",
       "      <td>20567.0</td>\n",
       "      <td>Antigua and Barbuda</td>\n",
       "      <td>NORTH AMERICA</td>\n",
       "    </tr>\n",
       "    <tr>\n",
       "      <th>6</th>\n",
       "      <td>15765.0</td>\n",
       "      <td>Argentina</td>\n",
       "      <td>SOUTH AMERICA</td>\n",
       "    </tr>\n",
       "    <tr>\n",
       "      <th>7</th>\n",
       "      <td>6508.0</td>\n",
       "      <td>Armenia</td>\n",
       "      <td>EUROPE</td>\n",
       "    </tr>\n",
       "    <tr>\n",
       "      <th>8</th>\n",
       "      <td>41330.0</td>\n",
       "      <td>Australia</td>\n",
       "      <td>OCEANIA</td>\n",
       "    </tr>\n",
       "    <tr>\n",
       "      <th>9</th>\n",
       "      <td>42861.0</td>\n",
       "      <td>Austria</td>\n",
       "      <td>EUROPE</td>\n",
       "    </tr>\n",
       "    <tr>\n",
       "      <th>10</th>\n",
       "      <td>15950.0</td>\n",
       "      <td>Azerbaijan</td>\n",
       "      <td>EUROPE</td>\n",
       "    </tr>\n",
       "    <tr>\n",
       "      <th>11</th>\n",
       "      <td>22915.0</td>\n",
       "      <td>Bahamas</td>\n",
       "      <td>NORTH AMERICA</td>\n",
       "    </tr>\n",
       "    <tr>\n",
       "      <th>12</th>\n",
       "      <td>40553.0</td>\n",
       "      <td>Bahrain</td>\n",
       "      <td>ASIA</td>\n",
       "    </tr>\n",
       "    <tr>\n",
       "      <th>13</th>\n",
       "      <td>2459.0</td>\n",
       "      <td>Bangladesh</td>\n",
       "      <td>ASIA</td>\n",
       "    </tr>\n",
       "    <tr>\n",
       "      <th>14</th>\n",
       "      <td>15297.0</td>\n",
       "      <td>Barbados</td>\n",
       "      <td>NORTH AMERICA</td>\n",
       "    </tr>\n",
       "    <tr>\n",
       "      <th>15</th>\n",
       "      <td>15703.0</td>\n",
       "      <td>Belarus</td>\n",
       "      <td>EUROPE</td>\n",
       "    </tr>\n",
       "    <tr>\n",
       "      <th>16</th>\n",
       "      <td>40764.0</td>\n",
       "      <td>Belgium</td>\n",
       "      <td>EUROPE</td>\n",
       "    </tr>\n",
       "    <tr>\n",
       "      <th>17</th>\n",
       "      <td>8209.0</td>\n",
       "      <td>Belize</td>\n",
       "      <td>NORTH AMERICA</td>\n",
       "    </tr>\n",
       "    <tr>\n",
       "      <th>18</th>\n",
       "      <td>1637.0</td>\n",
       "      <td>Benin</td>\n",
       "      <td>AFRICA</td>\n",
       "    </tr>\n",
       "    <tr>\n",
       "      <th>19</th>\n",
       "      <td>6516.0</td>\n",
       "      <td>Bhutan</td>\n",
       "      <td>ASIA</td>\n",
       "    </tr>\n",
       "    <tr>\n",
       "      <th>20</th>\n",
       "      <td>5279.0</td>\n",
       "      <td>Bolivia</td>\n",
       "      <td>SOUTH AMERICA</td>\n",
       "    </tr>\n",
       "    <tr>\n",
       "      <th>21</th>\n",
       "      <td>9145.0</td>\n",
       "      <td>Bosnia and Herzegovina</td>\n",
       "      <td>EUROPE</td>\n",
       "    </tr>\n",
       "    <tr>\n",
       "      <th>22</th>\n",
       "      <td>13642.0</td>\n",
       "      <td>Botswana</td>\n",
       "      <td>AFRICA</td>\n",
       "    </tr>\n",
       "    <tr>\n",
       "      <th>23</th>\n",
       "      <td>14660.0</td>\n",
       "      <td>Brazil</td>\n",
       "      <td>SOUTH AMERICA</td>\n",
       "    </tr>\n",
       "    <tr>\n",
       "      <th>24</th>\n",
       "      <td>70636.0</td>\n",
       "      <td>Brunei</td>\n",
       "      <td>ASIA</td>\n",
       "    </tr>\n",
       "    <tr>\n",
       "      <th>25</th>\n",
       "      <td>14886.0</td>\n",
       "      <td>Bulgaria</td>\n",
       "      <td>EUROPE</td>\n",
       "    </tr>\n",
       "    <tr>\n",
       "      <th>26</th>\n",
       "      <td>725.0</td>\n",
       "      <td>Burundi</td>\n",
       "      <td>AFRICA</td>\n",
       "    </tr>\n",
       "    <tr>\n",
       "      <th>27</th>\n",
       "      <td>2513.0</td>\n",
       "      <td>Cambodia</td>\n",
       "      <td>ASIA</td>\n",
       "    </tr>\n",
       "    <tr>\n",
       "      <th>28</th>\n",
       "      <td>2571.0</td>\n",
       "      <td>Cameroon</td>\n",
       "      <td>AFRICA</td>\n",
       "    </tr>\n",
       "    <tr>\n",
       "      <th>29</th>\n",
       "      <td>40773.0</td>\n",
       "      <td>Canada</td>\n",
       "      <td>NORTH AMERICA</td>\n",
       "    </tr>\n",
       "    <tr>\n",
       "      <th>30</th>\n",
       "      <td>6005.0</td>\n",
       "      <td>Cape Verde</td>\n",
       "      <td>AFRICA</td>\n",
       "    </tr>\n",
       "    <tr>\n",
       "      <th>31</th>\n",
       "      <td>901.0</td>\n",
       "      <td>Central African Republic</td>\n",
       "      <td>AFRICA</td>\n",
       "    </tr>\n",
       "    <tr>\n",
       "      <th>32</th>\n",
       "      <td>1953.0</td>\n",
       "      <td>Chad</td>\n",
       "      <td>AFRICA</td>\n",
       "    </tr>\n",
       "    <tr>\n",
       "      <th>33</th>\n",
       "      <td>19204.0</td>\n",
       "      <td>Chile</td>\n",
       "      <td>SOUTH AMERICA</td>\n",
       "    </tr>\n",
       "    <tr>\n",
       "      <th>34</th>\n",
       "      <td>9430.0</td>\n",
       "      <td>China</td>\n",
       "      <td>ASIA</td>\n",
       "    </tr>\n",
       "    <tr>\n",
       "      <th>35</th>\n",
       "      <td>10777.0</td>\n",
       "      <td>Colombia</td>\n",
       "      <td>SOUTH AMERICA</td>\n",
       "    </tr>\n",
       "    <tr>\n",
       "      <th>36</th>\n",
       "      <td>1426.0</td>\n",
       "      <td>Comoros</td>\n",
       "      <td>AFRICA</td>\n",
       "    </tr>\n",
       "    <tr>\n",
       "      <th>37</th>\n",
       "      <td>12322.0</td>\n",
       "      <td>Costa Rica</td>\n",
       "      <td>NORTH AMERICA</td>\n",
       "    </tr>\n",
       "    <tr>\n",
       "      <th>38</th>\n",
       "      <td>19989.0</td>\n",
       "      <td>Croatia</td>\n",
       "      <td>EUROPE</td>\n",
       "    </tr>\n",
       "    <tr>\n",
       "      <th>39</th>\n",
       "      <td>18477.0</td>\n",
       "      <td>Cuba</td>\n",
       "      <td>NORTH AMERICA</td>\n",
       "    </tr>\n",
       "    <tr>\n",
       "      <th>40</th>\n",
       "      <td>33747.0</td>\n",
       "      <td>Cyprus</td>\n",
       "      <td>EUROPE</td>\n",
       "    </tr>\n",
       "    <tr>\n",
       "      <th>41</th>\n",
       "      <td>28111.0</td>\n",
       "      <td>Czech Republic</td>\n",
       "      <td>EUROPE</td>\n",
       "    </tr>\n",
       "    <tr>\n",
       "      <th>42</th>\n",
       "      <td>42997.0</td>\n",
       "      <td>Denmark</td>\n",
       "      <td>EUROPE</td>\n",
       "    </tr>\n",
       "    <tr>\n",
       "      <th>43</th>\n",
       "      <td>2665.0</td>\n",
       "      <td>Djibouti</td>\n",
       "      <td>AFRICA</td>\n",
       "    </tr>\n",
       "    <tr>\n",
       "      <th>44</th>\n",
       "      <td>10375.0</td>\n",
       "      <td>Dominica</td>\n",
       "      <td>NORTH AMERICA</td>\n",
       "    </tr>\n",
       "    <tr>\n",
       "      <th>45</th>\n",
       "      <td>11075.0</td>\n",
       "      <td>Dominican Republic</td>\n",
       "      <td>NORTH AMERICA</td>\n",
       "    </tr>\n",
       "    <tr>\n",
       "      <th>46</th>\n",
       "      <td>9311.0</td>\n",
       "      <td>Ecuador</td>\n",
       "      <td>SOUTH AMERICA</td>\n",
       "    </tr>\n",
       "    <tr>\n",
       "      <th>47</th>\n",
       "      <td>10615.0</td>\n",
       "      <td>Egypt</td>\n",
       "      <td>AFRICA</td>\n",
       "    </tr>\n",
       "    <tr>\n",
       "      <th>48</th>\n",
       "      <td>7237.0</td>\n",
       "      <td>El Salvador</td>\n",
       "      <td>NORTH AMERICA</td>\n",
       "    </tr>\n",
       "    <tr>\n",
       "      <th>49</th>\n",
       "      <td>34431.0</td>\n",
       "      <td>Equatorial Guinea</td>\n",
       "      <td>AFRICA</td>\n",
       "    </tr>\n",
       "  </tbody>\n",
       "</table>\n",
       "</div>"
      ],
      "text/plain": [
       "     Income                   Country         Region\n",
       "0    1637.0               Afghanistan           ASIA\n",
       "1    9374.0                   Albania         EUROPE\n",
       "2   12494.0                   Algeria         AFRICA\n",
       "3   38982.0                   Andorra         EUROPE\n",
       "4    7047.0                    Angola         AFRICA\n",
       "5   20567.0       Antigua and Barbuda  NORTH AMERICA\n",
       "6   15765.0                 Argentina  SOUTH AMERICA\n",
       "7    6508.0                   Armenia         EUROPE\n",
       "8   41330.0                 Australia        OCEANIA\n",
       "9   42861.0                   Austria         EUROPE\n",
       "10  15950.0                Azerbaijan         EUROPE\n",
       "11  22915.0                   Bahamas  NORTH AMERICA\n",
       "12  40553.0                   Bahrain           ASIA\n",
       "13   2459.0                Bangladesh           ASIA\n",
       "14  15297.0                  Barbados  NORTH AMERICA\n",
       "15  15703.0                   Belarus         EUROPE\n",
       "16  40764.0                   Belgium         EUROPE\n",
       "17   8209.0                    Belize  NORTH AMERICA\n",
       "18   1637.0                     Benin         AFRICA\n",
       "19   6516.0                    Bhutan           ASIA\n",
       "20   5279.0                   Bolivia  SOUTH AMERICA\n",
       "21   9145.0    Bosnia and Herzegovina         EUROPE\n",
       "22  13642.0                  Botswana         AFRICA\n",
       "23  14660.0                    Brazil  SOUTH AMERICA\n",
       "24  70636.0                    Brunei           ASIA\n",
       "25  14886.0                  Bulgaria         EUROPE\n",
       "26    725.0                   Burundi         AFRICA\n",
       "27   2513.0                  Cambodia           ASIA\n",
       "28   2571.0                  Cameroon         AFRICA\n",
       "29  40773.0                    Canada  NORTH AMERICA\n",
       "30   6005.0                Cape Verde         AFRICA\n",
       "31    901.0  Central African Republic         AFRICA\n",
       "32   1953.0                      Chad         AFRICA\n",
       "33  19204.0                     Chile  SOUTH AMERICA\n",
       "34   9430.0                     China           ASIA\n",
       "35  10777.0                  Colombia  SOUTH AMERICA\n",
       "36   1426.0                   Comoros         AFRICA\n",
       "37  12322.0                Costa Rica  NORTH AMERICA\n",
       "38  19989.0                   Croatia         EUROPE\n",
       "39  18477.0                      Cuba  NORTH AMERICA\n",
       "40  33747.0                    Cyprus         EUROPE\n",
       "41  28111.0            Czech Republic         EUROPE\n",
       "42  42997.0                   Denmark         EUROPE\n",
       "43   2665.0                  Djibouti         AFRICA\n",
       "44  10375.0                  Dominica  NORTH AMERICA\n",
       "45  11075.0        Dominican Republic  NORTH AMERICA\n",
       "46   9311.0                   Ecuador  SOUTH AMERICA\n",
       "47  10615.0                     Egypt         AFRICA\n",
       "48   7237.0               El Salvador  NORTH AMERICA\n",
       "49  34431.0         Equatorial Guinea         AFRICA"
      ]
     },
     "execution_count": 253,
     "metadata": {},
     "output_type": "execute_result"
    }
   ],
   "source": [
    "\n",
    "\"\"\"\n",
    "Function\n",
    "--------\n",
    "mergeByYear\n",
    "\n",
    "Return a merged DataFrame containing the income, \n",
    "country name and region for a given year. \n",
    "\n",
    "Parameters\n",
    "----------\n",
    "year : int\n",
    "    The year of interest\n",
    "\n",
    "Returns\n",
    "-------\n",
    "a DataFrame\n",
    "   A pandas DataFrame with three columns titled \n",
    "   'Country', 'Region', and 'Income'. \n",
    "\n",
    "Example\n",
    "-------\n",
    ">>> mergeByYear(2010)\n",
    "\"\"\"\n",
    "#yr = 2010\n",
    "#your code here\n",
    "def mergeByYear(yr):\n",
    "    #df = pd.merge(countries, income, left_index=True, right_index=True)\n",
    "    df_income = pd.DataFrame(income.ix[yr].values, columns=['Income'])\n",
    "    df_income['Country'] = income.columns\n",
    "    joined = pd.merge(df_income, countries, how=\"inner\", on=['Country'])\n",
    "    joined.Income = np.round(joined.Income,2)\n",
    "    #joined.head()\n",
    "    return joined\n",
    "\n",
    "mergeByYear(2010).head(n=50)\n"
   ]
  },
  {
   "cell_type": "markdown",
   "metadata": {},
   "source": [
    "#### Problem 2(d) \n",
    "\n",
    "Use exploratory data analysis tools such as histograms and boxplots to explore the distribution of the income per person by region data set from 2(c) for a given year. Describe how these change through the recent years?\n",
    "\n",
    "**Hint**: Use a `for` loop to consider multiple years.  "
   ]
  },
  {
   "cell_type": "code",
   "execution_count": 258,
   "metadata": {
    "collapsed": false,
    "scrolled": false
   },
   "outputs": [
    {
     "data": {
      "image/png": "[encoded data removed]",
      "text/plain": [
       "<matplotlib.figure.Figure at 0x10585c88>"
      ]
     },
     "metadata": {},
     "output_type": "display_data"
    },
    {
     "data": {
      "image/png": "[encoded data removed]",
      "text/plain": [
       "<matplotlib.figure.Figure at 0x10be9518>"
      ]
     },
     "metadata": {},
     "output_type": "display_data"
    },
    {
     "data": {
      "image/png": "[encoded data removed]",
      "text/plain": [
       "<matplotlib.figure.Figure at 0xf4940f0>"
      ]
     },
     "metadata": {},
     "output_type": "display_data"
    },
    {
     "data": {
      "image/png": "[encoded data removed]",
      "text/plain": [
       "<matplotlib.figure.Figure at 0x10d89fd0>"
      ]
     },
     "metadata": {},
     "output_type": "display_data"
    },
    {
     "data": {
      "image/png": "[encoded data removed]",
      "text/plain": [
       "<matplotlib.figure.Figure at 0x10e51940>"
      ]
     },
     "metadata": {},
     "output_type": "display_data"
    },
    {
     "data": {
      "image/png": "[encoded data removed]",
      "text/plain": [
       "<matplotlib.figure.Figure at 0x10ab5f28>"
      ]
     },
     "metadata": {},
     "output_type": "display_data"
    }
   ],
   "source": [
    "#your code here\n",
    "\n",
    "years = np.arange(1950, 2010, 10)\n",
    "\n",
    "for yr in years:\n",
    "    df = mergeByYear(yr)\n",
    "    df.boxplot('Income', by = 'Region', rot = 90)\n",
    "    plt.title(\"Year:\" + str(yr))\n",
    "    plt.ylabel('Income per person (log10 scale)')\n",
    "    plt.ylim(10**2, 10.5 **5)\n",
    "    plt.yscale('log')\n"
   ]
  },
  {
   "cell_type": "markdown",
   "metadata": {},
   "source": [
    "## Discussion for Problem 2\n",
    "\n",
    "*Write a brief discussion of your conclusions to the questions and tasks above in 100 words or less.*\n",
    "\n",
    "---\n"
   ]
  },
  {
   "cell_type": "markdown",
   "metadata": {},
   "source": [
    "## Problem 3\n",
    "\n",
    "In general, if group A has larger values than group B on average, does this mean the largest values are from group A? Discuss after completing each of the problems below. "
   ]
  },
  {
   "cell_type": "markdown",
   "metadata": {},
   "source": [
    "#### Problem 3(a)\n",
    "\n",
    "Assume you have two list of numbers, X and Y, with distribution approximately normal. X and Y have standard deviation equal to 1, but the average of X is different from the average of Y.  If the difference in the average of X and the average of Y is larger than 0, how does the proportion of X > a compare to the proportion of Y > a? "
   ]
  },
  {
   "cell_type": "markdown",
   "metadata": {},
   "source": [
    "Write a function that analytically calculates the ratio of these two proportions: Pr(X > a)/Pr(Y > a) as function of the difference in the average of X and the average of Y. \n",
    "\n",
    "**Hint**: Use the `scipy.stats` module for useful functions related to a normal random variable such as the probability density function, cumulative distribution function and survival function. \n",
    "\n",
    "**Update**: Assume Y is normally distributed with mean equal to 0. "
   ]
  },
  {
   "cell_type": "markdown",
   "metadata": {},
   "source": [
    "Show the curve for different values of a (a = 2,3,4 and 5)."
   ]
  },
  {
   "cell_type": "code",
   "execution_count": 273,
   "metadata": {
    "collapsed": false
   },
   "outputs": [],
   "source": [
    "\"\"\"\n",
    "Function\n",
    "--------\n",
    "ratioNormals\n",
    "\n",
    "Return ratio of these two proportions: \n",
    "    Pr(X > a)/Pr(Y > a) as function of \n",
    "    the difference in the average of X \n",
    "    and the average of Y. \n",
    "\n",
    "Parameters\n",
    "----------\n",
    "diff : difference in the average of X \n",
    "    and the average of Y. \n",
    "a : cutoff value\n",
    "\n",
    "Returns\n",
    "-------\n",
    "Returns ratio of these two proportions: \n",
    "    Pr(X > a)/Pr(Y > a)\n",
    "    \n",
    "Example\n",
    "-------\n",
    ">>> ratioNormals(diff = 1, a = 2)\n",
    "\"\"\"\n",
    "#your code here\n",
    "def ratioNormals(diff, a):\n",
    "    X = sp.stats.norm(loc=diff, scale=1)\n",
    "    Y = sp.stats.norm(loc=0, scale=1) \n",
    "    return X.sf(a) / Y.sf(a)"
   ]
  },
  {
   "cell_type": "code",
   "execution_count": 275,
   "metadata": {
    "collapsed": false
   },
   "outputs": [
    {
     "data": {
      "image/png": "[encoded data removed]",
      "text/plain": [
       "<matplotlib.figure.Figure at 0xf307be0>"
      ]
     },
     "metadata": {},
     "output_type": "display_data"
    }
   ],
   "source": [
    "a_values = range(2,6)\n",
    "diffs = np.linspace(0, 5, 50)\n",
    "plt.figure(figsize=(8,5))\n",
    "for a in a_values:\n",
    "    ratios = [ratioNormals(diff, a) for diff in diffs]\n",
    "    plt.plot(diffs, ratios)\n",
    "    \n",
    "# Labels\n",
    "plt.legend([\"a={}\".format(a) for a in a_values], loc=0);\n",
    "plt.xlabel('Diff');\n",
    "plt.ylabel('Pr(X>a) / Pr(Y>a)');\n",
    "plt.title('Ratio of Pr(X > a) to Pr(Y > a) as a Function of Diff');\n",
    "\n",
    "\n",
    "# Using a log scale so you can actually see the curves\n",
    "plt.yscale('log')"
   ]
  },
  {
   "cell_type": "markdown",
   "metadata": {},
   "source": [
    "#### Problem 3(b)\n",
    "\n",
    "Now consider the distribution of income per person from two regions: Asia and South America. Estimate the average income per person across the countries in those two regions. Which region has the larger average of income per person across the countries in that region? \n",
    "\n",
    "**Update**: Use the year 2012. "
   ]
  },
  {
   "cell_type": "code",
   "execution_count": 290,
   "metadata": {
    "collapsed": false
   },
   "outputs": [
    {
     "data": {
      "text/html": [
       "<div>\n",
       "<table border=\"1\" class=\"dataframe\">\n",
       "  <thead>\n",
       "    <tr style=\"text-align: right;\">\n",
       "      <th></th>\n",
       "      <th>Region</th>\n",
       "      <th>Income</th>\n",
       "    </tr>\n",
       "  </thead>\n",
       "  <tbody>\n",
       "    <tr>\n",
       "      <th>1</th>\n",
       "      <td>ASIA</td>\n",
       "      <td>23500.43</td>\n",
       "    </tr>\n",
       "    <tr>\n",
       "      <th>5</th>\n",
       "      <td>SOUTH AMERICA</td>\n",
       "      <td>13015.75</td>\n",
       "    </tr>\n",
       "  </tbody>\n",
       "</table>\n",
       "</div>"
      ],
      "text/plain": [
       "          Region    Income\n",
       "1           ASIA  23500.43\n",
       "5  SOUTH AMERICA  13015.75"
      ]
     },
     "execution_count": 290,
     "metadata": {},
     "output_type": "execute_result"
    }
   ],
   "source": [
    "#your code here\n",
    "merged = mergeByYear(2012).groupby('Region', as_index=False).mean()\n",
    "merged.head()\n",
    "merged = merged.loc[(merged['Region'] == \"ASIA\") | (merged['Region'] == \"SOUTH AMERICA\")]\n",
    "merged.Income = np.round(merged.Income,2)\n",
    "merged"
   ]
  },
  {
   "cell_type": "code",
   "execution_count": 291,
   "metadata": {
    "collapsed": false
   },
   "outputs": [
    {
     "data": {
      "text/plain": [
       "<matplotlib.text.Text at 0xf481b00>"
      ]
     },
     "execution_count": 291,
     "metadata": {},
     "output_type": "execute_result"
    },
    {
     "data": {
      "image/png": "[encoded data removed]",
      "text/plain": [
       "<matplotlib.figure.Figure at 0xeef6710>"
      ]
     },
     "metadata": {},
     "output_type": "display_data"
    }
   ],
   "source": [
    "df = mergeByYear(2012)\n",
    "df = df.loc[(df.Region == \"ASIA\") | (df.Region == \"SOUTH AMERICA\")]\n",
    "df.boxplot('Income', by = 'Region', rot = 90)\n",
    "plt.ylabel('Income per person (dollars)')"
   ]
  },
  {
   "cell_type": "code",
   "execution_count": 292,
   "metadata": {
    "collapsed": false
   },
   "outputs": [
    {
     "data": {
      "image/png": "[encoded data removed]",
      "text/plain": [
       "<matplotlib.figure.Figure at 0xf481da0>"
      ]
     },
     "metadata": {},
     "output_type": "display_data"
    }
   ],
   "source": [
    "df = mergeByYear(2012)\n",
    "df = df.loc[(df.Region == \"ASIA\") | (df.Region == \"SOUTH AMERICA\")]\n",
    "df.boxplot('Income', by = 'Region', rot = 90)\n",
    "plt.ylabel('Income per person (log10 scale)')\n",
    "plt.yscale('log')"
   ]
  },
  {
   "cell_type": "markdown",
   "metadata": {},
   "source": [
    "#### Problem 3(c) \n",
    "\n",
    "Calculate the proportion of countries with income per person that is greater than 10,000 dollars. Which region has a larger proportion of countries with income per person greater than 10,000 dollars? If the answer here is different from the answer in 3(b), explain why in light of your answer to 3(a).\n",
    "\n",
    "**Update**: Use the year 2012. "
   ]
  },
  {
   "cell_type": "code",
   "execution_count": 293,
   "metadata": {
    "collapsed": false
   },
   "outputs": [
    {
     "data": {
      "text/html": [
       "<div>\n",
       "<table border=\"1\" class=\"dataframe\">\n",
       "  <thead>\n",
       "    <tr style=\"text-align: right;\">\n",
       "      <th></th>\n",
       "      <th>Region</th>\n",
       "      <th>Mean</th>\n",
       "      <th>P(X &gt; 10000)</th>\n",
       "    </tr>\n",
       "  </thead>\n",
       "  <tbody>\n",
       "    <tr>\n",
       "      <th>1</th>\n",
       "      <td>ASIA</td>\n",
       "      <td>23500.43</td>\n",
       "      <td>0.5676</td>\n",
       "    </tr>\n",
       "    <tr>\n",
       "      <th>5</th>\n",
       "      <td>SOUTH AMERICA</td>\n",
       "      <td>13015.75</td>\n",
       "      <td>0.7500</td>\n",
       "    </tr>\n",
       "  </tbody>\n",
       "</table>\n",
       "</div>"
      ],
      "text/plain": [
       "          Region      Mean  P(X > 10000)\n",
       "1           ASIA  23500.43        0.5676\n",
       "5  SOUTH AMERICA  13015.75        0.7500"
      ]
     },
     "execution_count": 293,
     "metadata": {},
     "output_type": "execute_result"
    }
   ],
   "source": [
    "#your code here\n",
    "\n",
    "def ratioCountries(groupedData, a):\n",
    "    prop = [\n",
    "        len(group.Income[group.Income >= a]) / float(len(group.Income.dropna())) for key, group in groupedData\n",
    "    ]\n",
    "    z = pd.DataFrame(groupedData.mean().index, columns = ['Region'])\n",
    "    z['Mean'] = np.round(groupedData.mean().values,2)\n",
    "    z['P(X > %g)' % a] = np.round(prop, 4)\n",
    "    return z\n",
    "\n",
    "df = mergeByYear(2012).groupby('Region')\n",
    "df_ratio = ratioCountries(df, 1e4)\n",
    "df_ratio = df_ratio[(df_ratio.Region == 'ASIA') | (df_ratio.Region == 'SOUTH AMERICA')]\n",
    "df_ratio"
   ]
  },
  {
   "cell_type": "markdown",
   "metadata": {},
   "source": [
    "#### Problem 3(d)\n",
    "\n",
    "**For AC209 Students**: Re-run this analysis in Problem 3 but compute the average income per person for each region, instead of the average of the reported incomes per person across countries in the region. Why are these two different? Hint: use this [data set](https://spreadsheets.google.com/pub?key=phAwcNAVuyj0XOoBL_n5tAQ&gid=0). "
   ]
  },
  {
   "cell_type": "code",
   "execution_count": 16,
   "metadata": {
    "collapsed": false
   },
   "outputs": [],
   "source": [
    "#your code here"
   ]
  },
  {
   "cell_type": "markdown",
   "metadata": {},
   "source": [
    "## Discussion for Problem 3\n",
    "\n",
    "*Write a brief discussion of your conclusions to the questions and tasks above in 100 words or less.*\n",
    "\n",
    "---\n"
   ]
  }
 ],
 "metadata": {
  "anaconda-cloud": {},
  "kernelspec": {
   "display_name": "Python [Root]",
   "language": "python",
   "name": "Python [Root]"
  },
  "language_info": {
   "codemirror_mode": {
    "name": "ipython",
    "version": 3
   },
   "file_extension": ".py",
   "mimetype": "text/x-python",
   "name": "python",
   "nbconvert_exporter": "python",
   "pygments_lexer": "ipython3",
   "version": "3.5.2"
  }
 },
 "nbformat": 4,
 "nbformat_minor": 0
}
